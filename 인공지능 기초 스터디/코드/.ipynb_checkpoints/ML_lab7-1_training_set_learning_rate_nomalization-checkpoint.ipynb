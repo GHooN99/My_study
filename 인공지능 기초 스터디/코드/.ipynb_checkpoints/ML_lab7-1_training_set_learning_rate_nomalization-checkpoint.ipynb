{
 "cells": [
  {
   "cell_type": "code",
   "execution_count": 1,
   "metadata": {},
   "outputs": [],
   "source": [
    "import tensorflow as tf"
   ]
  },
  {
   "cell_type": "code",
   "execution_count": 4,
   "metadata": {},
   "outputs": [
    {
     "name": "stdout",
     "output_type": "stream",
     "text": [
      "0 4.849978\n",
      "5000 0.18249118\n",
      "10000 0.12984115\n",
      "15000 0.10811507\n",
      "20000 0.09626305\n",
      "25000 0.088547446\n",
      "30000 0.08286914\n",
      "35000 0.07832545\n",
      "40000 0.0744835\n",
      "45000 0.07111806\n",
      "50000 0.06810333\n"
     ]
    }
   ],
   "source": [
    "x_data = [[1,2,1,],[1,3,2],[1,3,4],[1,5,5],[1,7,5],\n",
    "         [1,2,5],[1,6,6],[1,7,7]]\n",
    "\n",
    "y_data = [[0,0,1],[0,0,1],[0,0,1],[0,1,0],[0,1,0],[0,1,0],[1,0,0],[1,0,0]] #training set \n",
    "\n",
    "x_test = [[2,1,1],[3,1,2],[3,3,4]]\n",
    "\n",
    "y_test = [[0,0,1],[0,0,1],[0,0,1]]  #test data \n",
    "\n",
    "X = tf.placeholder(tf.float32 , shape = [None , 3 ])\n",
    "Y = tf.placeholder(tf.float32 , shape = [None , 3])\n",
    "\n",
    "W = tf.Variable(tf.random_normal([3,3]))  # 3(x 데이터) * 3(class a,b,c) 행렬 \n",
    "b = tf.Variable(tf.random_normal([3]))\n",
    "\n",
    "hypothesis = tf.nn.softmax(tf.matmul(X,W)+b)\n",
    "#cross entropy \n",
    "l2reg = 0.0001 * tf.reduce_sum(tf.square(W)) # reg strength * sum(W^2)\n",
    "cost = tf.reduce_mean(-tf.reduce_sum(Y*tf.log(hypothesis),axis =1))+l2reg\n",
    "\n",
    "optimizer = tf.train.GradientDescentOptimizer(learning_rate = 0.1)\n",
    "\n",
    "train = optimizer.minimize(cost)\n",
    "\n",
    "predict = tf.arg_max(hypothesis , 1)  #제일 큰값 1 \n",
    "is_correct = tf.equal(predict,tf.arg_max(Y,1)) #예측과 데이터가 맞냐\n",
    "accuracy = tf.reduce_mean(tf.cast(is_correct,tf.float32))\n",
    "#정확도 \n",
    "\n",
    "sess = tf.Session()\n",
    "\n",
    "sess.run(tf.global_variables_initializer())\n",
    "\n",
    "#학습\n",
    "for i in range(50001):\n",
    "    c_val , _ = sess.run([cost,train],feed_dict={X:x_data , Y:y_data})\n",
    "    if i%5000 ==0:\n",
    "        print(i,c_val)"
   ]
  },
  {
   "cell_type": "code",
   "execution_count": 3,
   "metadata": {},
   "outputs": [
    {
     "name": "stdout",
     "output_type": "stream",
     "text": [
      "Prediction :  [2 2 2]\n",
      "Accuracy :  1.0\n"
     ]
    }
   ],
   "source": [
    "#테스트 셋으로 성능평가 \n",
    "\n",
    "print(\"Prediction : \",sess.run(predict ,feed_dict = {X:x_test}))\n",
    "\n",
    "print(\"Accuracy : \",sess.run(accuracy ,feed_dict = {X:x_test,Y:y_test}))"
   ]
  },
  {
   "cell_type": "code",
   "execution_count": null,
   "metadata": {},
   "outputs": [],
   "source": [
    "#learning rate\n",
    "#normalized inputs\n",
    "d\n",
    "xy = np.array()\n",
    "xy = MinMaxScaler(xy) # 데이터 크거나 둘쭉날쭉 할때"
   ]
  }
 ],
 "metadata": {
  "kernelspec": {
   "display_name": "Python 3",
   "language": "python",
   "name": "python3"
  },
  "language_info": {
   "codemirror_mode": {
    "name": "ipython",
    "version": 3
   },
   "file_extension": ".py",
   "mimetype": "text/x-python",
   "name": "python",
   "nbconvert_exporter": "python",
   "pygments_lexer": "ipython3",
   "version": "3.6.10"
  }
 },
 "nbformat": 4,
 "nbformat_minor": 4
}
