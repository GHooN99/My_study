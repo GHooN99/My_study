{
 "cells": [
  {
   "cell_type": "code",
   "execution_count": 3,
   "metadata": {},
   "outputs": [],
   "source": [
    "import tensorflow as tf"
   ]
  },
  {
   "cell_type": "code",
   "execution_count": 8,
   "metadata": {},
   "outputs": [
    {
     "name": "stdout",
     "output_type": "stream",
     "text": [
      "Extracting MNIST_data/train-images-idx3-ubyte.gz\n",
      "Extracting MNIST_data/train-labels-idx1-ubyte.gz\n",
      "Extracting MNIST_data/t10k-images-idx3-ubyte.gz\n",
      "Extracting MNIST_data/t10k-labels-idx1-ubyte.gz\n"
     ]
    }
   ],
   "source": [
    "from tensorflow.examples.tutorials.mnist import input_data # 텐서플로 1.14 에서는 가능 1.15에서는 에러떴음\n",
    "mnist = input_data.read_data_sets(\"MNIST_data/\",one_hot=True)"
   ]
  },
  {
   "cell_type": "code",
   "execution_count": 12,
   "metadata": {},
   "outputs": [],
   "source": [
    "X = tf.placeholder(tf.float32, shape=[None , 28*28]) # 28*28 \n",
    "Y = tf.placeholder(tf.float32, shape = [None , 10]) # 0 ~ 9 까지의 수 \n",
    "\n",
    "W = tf.Variable(tf.random_normal([28*28,10])) # 입력 * 출력 \n",
    "b = tf.Variable(tf.random_normal([10]))\n",
    "\n",
    "hypothesis = tf.nn.softmax(tf.matmul(X,W)+b)\n",
    "\n",
    "cost = tf.reduce_mean(-tf.reduce_sum(Y*tf.log(hypothesis),axis = 1))\n",
    "\n",
    "optimizer = tf.train.GradientDescentOptimizer(learning_rate = 0.18)\n",
    "\n",
    "train = optimizer.minimize(cost)\n",
    "\n",
    "is_correct = tf.equal(tf.arg_max(hypothesis,1),tf.arg_max(Y,1)) #모델 테스트  가설과 실제가 맞냐\n",
    "\n",
    "accuracy = tf.reduce_mean(tf.cast(is_correct,tf.float32)) #정확도 \n",
    "\n",
    "sess = tf.Session()\n",
    "sess.run(tf.global_variables_initializer())\n"
   ]
  },
  {
   "cell_type": "code",
   "execution_count": 14,
   "metadata": {},
   "outputs": [
    {
     "name": "stdout",
     "output_type": "stream",
     "text": [
      "0 0.3551765804534609\n",
      "4 0.3473946221850135\n",
      "8 0.33233585994351994\n",
      "12 0.32027164361693644\n",
      "16 0.3169186178730294\n",
      "20 0.312271190664985\n"
     ]
    }
   ],
   "source": [
    "#epoch 와 batch_size \n",
    "#epoch => 모든 데이터를 1번 다 돌림 1epoch \n",
    "#batch_size -> 모든 데이터가 클때 쪼개서 , batch_size * i = 1 epoch\n",
    "\n",
    "training_epochs = 20   #모든데이터 15번 돌림 \n",
    "batch_size = 100   # 100개씩 돌림 \n",
    "for epoch in range(training_epochs+1):\n",
    "    avg_cost =0 \n",
    "    total_batch = int(mnist.train.num_examples / batch_size) # 몇번씩 돌려야 1epoch 인지 구함 \n",
    "    for i in range(total_batch):\n",
    "        batch_xs , batch_ys = mnist.train.next_batch(batch_size) # 다음 데이터를 batch개 불러옴\n",
    "        c_val , _ = sess.run([cost,train],feed_dict={X:batch_xs,Y:batch_ys})\n",
    "        avg_cost += c_val / total_batch  #실제 cost 보다 높게 잡힌다 \n",
    "    if epoch %4 ==0:\n",
    "        print(epoch, avg_cost)\n",
    "\n",
    "    "
   ]
  },
  {
   "cell_type": "code",
   "execution_count": 15,
   "metadata": {},
   "outputs": [
    {
     "name": "stdout",
     "output_type": "stream",
     "text": [
      "Accuracy : 0.9114\n"
     ]
    }
   ],
   "source": [
    "#평가 \n",
    "print(\"Accuracy :\", accuracy.eval(session=sess,feed_dict={X:mnist.test.images,Y:mnist.test.labels}))\n",
    "# 테스트 셋으로 평가 "
   ]
  },
  {
   "cell_type": "code",
   "execution_count": 20,
   "metadata": {},
   "outputs": [
    {
     "name": "stdout",
     "output_type": "stream",
     "text": [
      "Labal : [4]\n",
      "Predict : [4]\n"
     ]
    },
    {
     "data": {
      "image/png": "[encoded data removed]",
      "text/plain": [
       "<Figure size 432x288 with 1 Axes>"
      ]
     },
     "metadata": {
      "needs_background": "light"
     },
     "output_type": "display_data"
    },
    {
     "name": "stdout",
     "output_type": "stream",
     "text": [
      "Labal : [8]\n",
      "Predict : [9]\n"
     ]
    },
    {
     "data": {
      "image/png": "[encoded data removed]",
      "text/plain": [
       "<Figure size 432x288 with 1 Axes>"
      ]
     },
     "metadata": {
      "needs_background": "light"
     },
     "output_type": "display_data"
    },
    {
     "name": "stdout",
     "output_type": "stream",
     "text": [
      "Labal : [1]\n",
      "Predict : [1]\n"
     ]
    },
    {
     "data": {
      "image/png": "[encoded data removed]",
      "text/plain": [
       "<Figure size 432x288 with 1 Axes>"
      ]
     },
     "metadata": {
      "needs_background": "light"
     },
     "output_type": "display_data"
    },
    {
     "name": "stdout",
     "output_type": "stream",
     "text": [
      "Labal : [4]\n",
      "Predict : [4]\n"
     ]
    },
    {
     "data": {
      "image/png": "[encoded data removed]",
      "text/plain": [
       "<Figure size 432x288 with 1 Axes>"
      ]
     },
     "metadata": {
      "needs_background": "light"
     },
     "output_type": "display_data"
    },
    {
     "name": "stdout",
     "output_type": "stream",
     "text": [
      "Labal : [2]\n",
      "Predict : [2]\n"
     ]
    },
    {
     "data": {
      "image/png": "[encoded data removed]",
      "text/plain": [
       "<Figure size 432x288 with 1 Axes>"
      ]
     },
     "metadata": {
      "needs_background": "light"
     },
     "output_type": "display_data"
    }
   ],
   "source": [
    "# 시각화 출력\n",
    "\n",
    "import matplotlib.pyplot as plt\n",
    "import random\n",
    "\n",
    "for i in range(5):\n",
    "    r=random.randint(0,mnist.test.num_examples -1) # 0부터 9까지\n",
    "\n",
    "    print(\"Labal :\",sess.run(tf.arg_max(mnist.test.labels[r:r+1],1)))\n",
    "    print(\"Predict :\",sess.run(tf.arg_max(hypothesis,1),feed_dict={X:mnist.test.images[r:r+1]}))\n",
    "\n",
    "    plt.imshow(mnist.test.images[r:r+1].reshape(28,28),cmap=\"Greys\",interpolation ='nearest')\n",
    "    plt.show()"
   ]
  }
 ],
 "metadata": {
  "kernelspec": {
   "display_name": "Python 3",
   "language": "python",
   "name": "python3"
  },
  "language_info": {
   "codemirror_mode": {
    "name": "ipython",
    "version": 3
   },
   "file_extension": ".py",
   "mimetype": "text/x-python",
   "name": "python",
   "nbconvert_exporter": "python",
   "pygments_lexer": "ipython3",
   "version": "3.6.10"
  }
 },
 "nbformat": 4,
 "nbformat_minor": 4
}
