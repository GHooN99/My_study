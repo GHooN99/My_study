{
 "cells": [
  {
   "cell_type": "code",
   "execution_count": 3,
   "metadata": {},
   "outputs": [],
   "source": [
    "import tensorflow as tf\n",
    "import numpy as np"
   ]
  },
  {
   "cell_type": "code",
   "execution_count": 6,
   "metadata": {},
   "outputs": [],
   "source": [
    "#XOR \n",
    "x_data = np.array([[0,0],[0,1],[1,0],[1,1]],dtype =np.float32)\n",
    "y_data = np.array([[0],[1],[1],[0]],dtype =np.float32)"
   ]
  },
  {
   "cell_type": "code",
   "execution_count": 10,
   "metadata": {},
   "outputs": [],
   "source": [
    "X = tf.placeholder(shape=[None,2],dtype =np.float32)\n",
    "Y = tf.placeholder(shape=[None ,1],dtype =np.float32)\n",
    "W = tf.Variable(tf.random_normal([2,1]))\n",
    "b = tf.Variable(tf.random_normal([1]))"
   ]
  },
  {
   "cell_type": "code",
   "execution_count": 13,
   "metadata": {},
   "outputs": [
    {
     "name": "stdout",
     "output_type": "stream",
     "text": [
      "0 0.798246\n",
      "5000 0.6931472\n",
      "10000 0.6931472\n"
     ]
    }
   ],
   "source": [
    "hypothesis = tf.sigmoid(tf.matmul(X,W)+b) # logistic \n",
    "\n",
    "cost = -tf.reduce_mean(Y*tf.log(hypothesis)+(1-Y)*tf.log(1-hypothesis))\n",
    "optimizer = tf.train.GradientDescentOptimizer(learning_rate=0.1)\n",
    "\n",
    "train = optimizer.minimize(cost)\n",
    "\n",
    "predicted = tf.cast(hypothesis > 0.5 , dtype=tf.float32)   # 예측값 1.0 또는 0. 으로 캐스팅 \n",
    "accuracy = tf.reduce_mean(tf.cast(tf.equal(predicted,Y),dtype = tf.float32)) #정확도 계산 \n",
    "\n",
    "sess = tf.Session()\n",
    "sess.run(tf.global_variables_initializer())\n",
    "\n",
    "for i in range(10001):\n",
    "    c_val , _ = sess.run([cost,train],feed_dict = {X : x_data,Y : y_data})\n",
    "    if i%5000 == 0:\n",
    "        print(i,c_val) "
   ]
  },
  {
   "cell_type": "code",
   "execution_count": 14,
   "metadata": {},
   "outputs": [
    {
     "name": "stdout",
     "output_type": "stream",
     "text": [
      "h : [[0.5]\n",
      " [0.5]\n",
      " [0.5]\n",
      " [0.5]] c : [[0.]\n",
      " [0.]\n",
      " [0.]\n",
      " [0.]] a : 0.5\n"
     ]
    }
   ],
   "source": [
    "h , c, a =sess.run([hypothesis , predicted , accuracy],feed_dict ={X:x_data,Y:y_data})\n",
    "\n",
    "print(\"h :\",h,\"c :\",c,\"a :\",a)"
   ]
  },
  {
   "cell_type": "code",
   "execution_count": 15,
   "metadata": {},
   "outputs": [],
   "source": [
    "#Neural Net 사용 \n",
    "#넓게 ([2,5]출력 5), 깊게  w1,w2,w3....(deep) 도 가능\n",
    "\n",
    "W1 = tf.Variable(tf.random_normal([2,2])) # 입력 2 출력 2\n",
    "b1 = tf.Variable(tf.random_normal([2]))  # 출력 2\n",
    "layer1=tf.sigmoid(tf.matmul(X,W1)+b1)\n",
    "#layer 1 \n",
    "W2 = tf.Variable(tf.random_normal([2,1])) #레이어1 의 출력 \n",
    "b2 = tf.Variable(tf.random_normal([1])) # y 의 출력 1\n",
    "#layer 2\n",
    "hypothesis = tf.sigmoid(tf.matmul(layer1,W2)+b2)"
   ]
  },
  {
   "cell_type": "code",
   "execution_count": 16,
   "metadata": {},
   "outputs": [
    {
     "name": "stdout",
     "output_type": "stream",
     "text": [
      "0 1.4327323\n",
      "5000 0.49993765\n",
      "10000 0.03127248\n",
      "h : [[0.02981948]\n",
      " [0.9780034 ]\n",
      " [0.95349187]\n",
      " [0.02460301]] c : [[0.]\n",
      " [1.]\n",
      " [1.]\n",
      " [0.]] a : 1.0\n"
     ]
    }
   ],
   "source": [
    "cost = -tf.reduce_mean(Y*tf.log(hypothesis)+(1-Y)*tf.log(1-hypothesis))\n",
    "optimizer = tf.train.GradientDescentOptimizer(learning_rate=0.1)\n",
    "\n",
    "train = optimizer.minimize(cost)\n",
    "\n",
    "predicted = tf.cast(hypothesis > 0.5 , dtype=tf.float32)   # 예측값 1.0 또는 0. 으로 캐스팅 \n",
    "accuracy = tf.reduce_mean(tf.cast(tf.equal(predicted,Y),dtype = tf.float32)) #정확도 계산 \n",
    "\n",
    "sess = tf.Session()\n",
    "sess.run(tf.global_variables_initializer())\n",
    "\n",
    "for i in range(10001):\n",
    "    c_val , _ = sess.run([cost,train],feed_dict = {X : x_data,Y : y_data})\n",
    "    if i%5000 == 0:\n",
    "        print(i,c_val) \n",
    "        \n",
    "h , c, a =sess.run([hypothesis , predicted , accuracy],feed_dict ={X:x_data,Y:y_data})\n",
    "\n",
    "print(\"h :\",h,\"c :\",c,\"a :\",a)"
   ]
  }
 ],
 "metadata": {
  "kernelspec": {
   "display_name": "Python 3",
   "language": "python",
   "name": "python3"
  },
  "language_info": {
   "codemirror_mode": {
    "name": "ipython",
    "version": 3
   },
   "file_extension": ".py",
   "mimetype": "text/x-python",
   "name": "python",
   "nbconvert_exporter": "python",
   "pygments_lexer": "ipython3",
   "version": "3.6.10"
  }
 },
 "nbformat": 4,
 "nbformat_minor": 4
}
