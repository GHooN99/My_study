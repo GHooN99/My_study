{
 "cells": [
  {
   "cell_type": "code",
   "execution_count": 2,
   "metadata": {},
   "outputs": [],
   "source": [
    "import tensorflow as tf\n",
    "import numpy as np"
   ]
  },
  {
   "cell_type": "code",
   "execution_count": 6,
   "metadata": {},
   "outputs": [
    {
     "name": "stdout",
     "output_type": "stream",
     "text": [
      "101 101\n"
     ]
    }
   ],
   "source": [
    "data = np.loadtxt('../데이터/zoo.csv',delimiter=',',dtype=np.int32)\n",
    "x_data = data[:,0:-1]\n",
    "y_data = data[:,[-1]]\n",
    "print(len(x_data),len(y_data))"
   ]
  },
  {
   "cell_type": "code",
   "execution_count": 11,
   "metadata": {},
   "outputs": [
    {
     "name": "stdout",
     "output_type": "stream",
     "text": [
      "0 8.779241 0.10891089\n",
      "5000 0.023200441 1.0\n",
      "10000 0.011905521 1.0\n",
      "15000 0.008071918 1.0\n",
      "20000 0.006122824 1.0\n",
      "25000 0.0049385377 1.0\n",
      "30000 0.0041413438 1.0\n",
      "35000 0.003567584 1.0\n",
      "40000 0.0031345198 1.0\n",
      "45000 0.002795937 1.0\n",
      "50000 0.002523828 1.0\n"
     ]
    }
   ],
   "source": [
    "# tf.nn.softmax_cross_entropy_with_logits(logit , label (Y 값))\n",
    "\n",
    "X = tf.placeholder(tf.float32 , shape = [None ,16])\n",
    "Y = tf.placeholder(tf.int32 , shape = [None , 1])  # [0,0,0,0,0,1] 형식으로 만들어야함\n",
    "Y_one_hot = tf.one_hot(Y,7) # shape (none,1,7) y값 , ? 개  -> [[0],[3]] 이면 [[[100000]],[[[001000]]] 이런식 \n",
    "Y_one_hot = tf.reshape(Y_one_hot , [-1 ,7]) # shape (none( -1넣으면 됨 ) , 7)\n",
    "\n",
    "W = tf.Variable(tf.random_normal([16,7]))  # \n",
    "b = tf.Variable(tf.random_normal([7]))\n",
    "\n",
    "logits = tf.matmul(X,W)+b\n",
    "hypothesis = tf.nn.softmax(logits)\n",
    "#cross entropy \n",
    "cost_i = tf.nn.softmax_cross_entropy_with_logits(logits=logits,labels=Y_one_hot)\n",
    "\n",
    "cost= tf.reduce_mean(cost_i)\n",
    "\n",
    "optimizer = tf.train.GradientDescentOptimizer(learning_rate = 0.1)\n",
    "\n",
    "train = optimizer.minimize(cost)\n",
    "\n",
    "sess = tf.Session()\n",
    "\n",
    "sess.run(tf.global_variables_initializer())\n",
    "\n",
    "predict = tf.argmax(hypothesis ,1) #1~6으로 \n",
    "correct = tf.equal(predict,tf.arg_max(Y_one_hot,1)) # 예측값과 레이블이 같냐?\n",
    "accuracy = tf.reduce_mean(tf.cast(correct,tf.float32))  # 정확도 \n",
    "\n",
    "for i in range(50001):\n",
    "    arr, c_val , _ = sess.run([accuracy,cost,train],feed_dict={X:x_data , Y:y_data})\n",
    "    if i%5000 ==0:\n",
    "        print(i,c_val,arr)\n"
   ]
  }
 ],
 "metadata": {
  "kernelspec": {
   "display_name": "Python 3",
   "language": "python",
   "name": "python3"
  },
  "language_info": {
   "codemirror_mode": {
    "name": "ipython",
    "version": 3
   },
   "file_extension": ".py",
   "mimetype": "text/x-python",
   "name": "python",
   "nbconvert_exporter": "python",
   "pygments_lexer": "ipython3",
   "version": "3.6.10"
  }
 },
 "nbformat": 4,
 "nbformat_minor": 4
}
