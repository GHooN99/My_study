{
 "cells": [
  {
   "cell_type": "code",
   "execution_count": 7,
   "metadata": {},
   "outputs": [
    {
     "data": {
      "image/png": "[encoded data removed]",
      "text/plain": [
       "<Figure size 432x288 with 1 Axes>"
      ]
     },
     "metadata": {
      "needs_background": "light"
     },
     "output_type": "display_data"
    }
   ],
   "source": [
    "#cost func 시각화 \n",
    "from matplotlib import pyplot as plt\n",
    "import tensorflow as tf\n",
    "\n",
    "X=[1,2,3]\n",
    "Y=[1,2,3]\n",
    "\n",
    "W = tf.placeholder(tf.float32)\n",
    "\n",
    "hypothesis = W * X\n",
    "\n",
    "cost = tf.reduce_mean(tf.square(hypothesis-Y))\n",
    "\n",
    "sess = tf.Session()\n",
    "sess.run(tf.global_variables_initializer())\n",
    "\n",
    "W_val=[]\n",
    "cost_val=[]\n",
    "\n",
    "for i in range(-30,50):\n",
    "    feed_W = i *0.1 # W 값을 -3 ~ 5 확인\n",
    "    curr_cost , curr_W = sess.run([cost ,W],feed_dict={W:feed_W}) # W 에 값할당\n",
    "    W_val.append(curr_W)\n",
    "    cost_val.append(curr_cost)\n",
    "\n",
    "plt.title(\"cost func\")\n",
    "plt.xlabel(\"W\")\n",
    "plt.ylabel(\"cost(W)\")\n",
    "plt.plot(W_val,cost_val)\n",
    "plt.show()\n"
   ]
  },
  {
   "cell_type": "code",
   "execution_count": 10,
   "metadata": {},
   "outputs": [
    {
     "name": "stdout",
     "output_type": "stream",
     "text": [
      "0 49.546013 [0.35744]\n",
      "1 3.0966253 [0.83936]\n",
      "2 0.19353908 [0.95984]\n",
      "3 0.012096196 [0.98996]\n",
      "4 0.0007560089 [0.99749]\n",
      "5 4.725095e-05 [0.9993725]\n",
      "6 2.9533385e-06 [0.9998431]\n",
      "7 1.8458366e-07 [0.9999608]\n",
      "8 1.1543495e-08 [0.9999902]\n",
      "9 7.166534e-10 [0.99999756]\n",
      "10 4.5010218e-11 [0.9999994]\n",
      "11 2.7746694e-12 [0.9999999]\n",
      "12 1.314504e-13 [1.]\n",
      "13 0.0 [1.]\n",
      "14 0.0 [1.]\n",
      "15 0.0 [1.]\n",
      "16 0.0 [1.]\n",
      "17 0.0 [1.]\n",
      "18 0.0 [1.]\n",
      "19 0.0 [1.]\n",
      "20 0.0 [1.]\n"
     ]
    }
   ],
   "source": [
    "# gradient descent 구현 \n",
    "import tensorflow as tf\n",
    "x_data = [1,2,3,4]\n",
    "y_data = [1,2,3,4]\n",
    "X=tf.placeholder(tf.float32)\n",
    "Y=tf.placeholder(tf.float32)\n",
    "W=tf.Variable(tf.random_normal([1]),name='weight')\n",
    "\n",
    "hypothesis = W * X\n",
    "\n",
    "cost = tf.reduce_mean(tf.square(hypothesis-Y))\n",
    "\n",
    "learning_rate = 0.1\n",
    "\n",
    "gradient = tf.reduce_mean((hypothesis - Y)*X) # 미분한 식 \n",
    "descent = W - learning_rate * gradient    # 경사하강 알고리즘 \n",
    "\n",
    "update = W.assign(descent)\n",
    "\n",
    "sess=tf.Session()\n",
    "\n",
    "sess.run(tf.global_variables_initializer())\n",
    "\n",
    "for i in range(21):\n",
    "    W_val,cost_val, _ = sess.run([W, cost , update],feed_dict={X : x_data , Y : y_data})\n",
    "    print(i,cost_val , W_val)"
   ]
  },
  {
   "cell_type": "code",
   "execution_count": null,
   "metadata": {},
   "outputs": [],
   "source": []
  }
 ],
 "metadata": {
  "kernelspec": {
   "display_name": "Python 3",
   "language": "python",
   "name": "python3"
  },
  "language_info": {
   "codemirror_mode": {
    "name": "ipython",
    "version": 3
   },
   "file_extension": ".py",
   "mimetype": "text/x-python",
   "name": "python",
   "nbconvert_exporter": "python",
   "pygments_lexer": "ipython3",
   "version": "3.6.10"
  }
 },
 "nbformat": 4,
 "nbformat_minor": 4
}
