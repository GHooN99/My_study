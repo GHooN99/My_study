{
 "cells": [
  {
   "cell_type": "code",
   "execution_count": 1,
   "metadata": {},
   "outputs": [],
   "source": [
    "import tensorflow as tf"
   ]
  },
  {
   "cell_type": "code",
   "execution_count": 9,
   "metadata": {},
   "outputs": [
    {
     "name": "stdout",
     "output_type": "stream",
     "text": [
      "0 7.8778896\n",
      "5000 0.074817814\n",
      "10000 0.039564863\n",
      "15000 0.026792914\n",
      "20000 0.020229548\n",
      "25000 0.016240172\n",
      "30000 0.013561226\n",
      "35000 0.011638963\n",
      "40000 0.010192941\n",
      "45000 0.009066051\n",
      "50000 0.008163027\n"
     ]
    }
   ],
   "source": [
    "x_data = [[1,2,1,1],[2,1,3,2],[3,1,3,4],[4,1,5,5],[1,7,5,5],\n",
    "         [1,2,5,6],[1,6,6,6],[1,7,7,7]]\n",
    "\n",
    "y_data = [[0,0,1],[0,0,1],[0,0,1],[0,1,0],[0,1,0],[0,1,0],[1,0,0],[1,0,0]]\n",
    "\n",
    "\n",
    "X = tf.placeholder(tf.float32 , shape = [None ,4 ])\n",
    "Y = tf.placeholder(tf.float32 , shape = [None , 3])\n",
    "\n",
    "W = tf.Variable(tf.random_normal([4,3]))  # 4(x 데이터) * 3(class a,b,c) 행렬 \n",
    "b = tf.Variable(tf.random_normal([3]))\n",
    "\n",
    "hypothesis = tf.nn.softmax(tf.matmul(X,W)+b)\n",
    "#cross entropy \n",
    "cost = tf.reduce_mean(-tf.reduce_sum(Y*tf.log(hypothesis),axis =1))\n",
    "\n",
    "optimizer = tf.train.GradientDescentOptimizer(learning_rate = 0.1)\n",
    "\n",
    "train = optimizer.minimize(cost)\n",
    "\n",
    "sess = tf.Session()\n",
    "\n",
    "sess.run(tf.global_variables_initializer())\n",
    "\n",
    "for i in range(50001):\n",
    "    c_val , _ = sess.run([cost,train],feed_dict={X:x_data , Y:y_data})\n",
    "    if i%5000 ==0:\n",
    "        print(i,c_val)"
   ]
  },
  {
   "cell_type": "code",
   "execution_count": 14,
   "metadata": {},
   "outputs": [
    {
     "name": "stdout",
     "output_type": "stream",
     "text": [
      "[[5.8155890e-11 1.0000000e+00 1.7127168e-10]] [1]\n",
      "---------------\n",
      "[[9.9994528e-01 5.3702825e-05 9.7428710e-07]] [0]\n",
      "---------------\n",
      "[[7.9704431e-24 7.3797507e-10 1.0000000e+00]] [2]\n",
      "---------------\n",
      "[[5.8156108e-11 1.0000000e+00 1.7127298e-10]\n",
      " [9.9994528e-01 5.3702926e-05 9.7428904e-07]\n",
      " [7.9704423e-24 7.3797507e-10 1.0000000e+00]] [1 0 2]\n",
      "---------------\n"
     ]
    }
   ],
   "source": [
    "#출력 \n",
    "a = sess.run(hypothesis,feed_dict={X:[[1,11,7,9]]})\n",
    "print(a,sess.run(tf.arg_max(a,1)))\n",
    "print('---------------')\n",
    "b = sess.run(hypothesis,feed_dict={X:[[1,3,4,3]]})\n",
    "print(b,sess.run(tf.arg_max(b,1)))\n",
    "print('---------------')\n",
    "c = sess.run(hypothesis,feed_dict={X:[[1,1,0,1]]})\n",
    "print(c,sess.run(tf.arg_max(c,1)))\n",
    "print('---------------')\n",
    "allf = sess.run(hypothesis,feed_dict={X:[[1,11,7,9],[1,3,4,3],[1,1,0,1]]})\n",
    "print(allf,sess.run(tf.arg_max(allf,1)))  # max 함수 \n",
    "print('---------------')"
   ]
  }
 ],
 "metadata": {
  "kernelspec": {
   "display_name": "Python 3",
   "language": "python",
   "name": "python3"
  },
  "language_info": {
   "codemirror_mode": {
    "name": "ipython",
    "version": 3
   },
   "file_extension": ".py",
   "mimetype": "text/x-python",
   "name": "python",
   "nbconvert_exporter": "python",
   "pygments_lexer": "ipython3",
   "version": "3.6.10"
  }
 },
 "nbformat": 4,
 "nbformat_minor": 4
}
