{
 "cells": [
  {
   "cell_type": "code",
   "execution_count": 6,
   "metadata": {},
   "outputs": [
    {
     "name": "stdout",
     "output_type": "stream",
     "text": [
      "0 1.5346413\n",
      "5000 0.26960167\n",
      "10000 0.16150098\n",
      "15000 0.1149322\n",
      "20000 0.08942472\n",
      "25000 0.07333498\n",
      "30000 0.06224137\n",
      "35000 0.054115996\n",
      "40000 0.0478992\n",
      "45000 0.04298405\n",
      "50000 0.038997408\n",
      "55000 0.035697177\n",
      "60000 0.03291819\n",
      "65000 0.030544618\n",
      "70000 0.028494881\n",
      "75000 0.026704988\n",
      "80000 0.025127636\n",
      "85000 0.023729099\n",
      "90000 0.02247794\n",
      "95000 0.021354878\n",
      "100000 0.020338008\n"
     ]
    }
   ],
   "source": [
    "import tensorflow as tf\n",
    "\n",
    "x_data =[[1,2],[2,3],[3,1],[4,3],[5,3],[6,2]]\n",
    "y_data =[[0],[0],[0],[1],[1],[1]]\n",
    "\n",
    "X = tf.placeholder(tf.float32,shape=[None ,2])\n",
    "Y = tf.placeholder(tf.float32,shape=[None ,1])\n",
    "W = tf.Variable(tf.random_normal([2,1]))\n",
    "b = tf.Variable(tf.random_normal([1]))\n",
    "\n",
    "\n",
    "hypothesis = tf.sigmoid(tf.matmul(X,W)+b)  # 행렬곱 , 시그모이드 함수 \n",
    "\n",
    "cost = -tf.reduce_mean(Y*tf.log(hypothesis) + (1-Y)*tf.log(1-hypothesis))  # 새로운 가설 함수\n",
    "\n",
    "\n",
    "optimizer = tf.train.GradientDescentOptimizer(learning_rate=0.01)\n",
    "\n",
    "train = optimizer.minimize(cost)\n",
    "\n",
    "predicted = tf.cast(hypothesis > 0.5 , dtype=tf.float32)   # 예측값 1.0 또는 0. 으로 캐스팅 \n",
    "accuracy = tf.reduce_mean(tf.cast(tf.equal(predicted,Y),dtype = tf.float32)) #정확도 계산 \n",
    "\n",
    "sess = tf.Session()\n",
    "sess.run(tf.global_variables_initializer())\n",
    "\n",
    "for i in range(100001):\n",
    "    c_val , _ = sess.run([cost,train],feed_dict = {X : x_data,Y : y_data})\n",
    "    if i%5000 == 0:\n",
    "        print(i,c_val) \n",
    "        "
   ]
  },
  {
   "cell_type": "code",
   "execution_count": 7,
   "metadata": {},
   "outputs": [
    {
     "name": "stdout",
     "output_type": "stream",
     "text": [
      "h : [[2.9417133e-04]\n",
      " [3.2368548e-02]\n",
      " [3.9977446e-02]\n",
      " [9.5519245e-01]\n",
      " [9.9814522e-01]\n",
      " [9.9966860e-01]] c : [[0.]\n",
      " [0.]\n",
      " [0.]\n",
      " [1.]\n",
      " [1.]\n",
      " [1.]] a : 1.0\n"
     ]
    }
   ],
   "source": [
    "# 정확도 테스트 \n",
    "h , c, a =sess.run([hypothesis , predicted , accuracy],feed_dict ={X:x_data,Y:y_data})\n",
    "\n",
    "print(\"h :\",h,\"c :\",c,\"a :\",a)"
   ]
  }
 ],
 "metadata": {
  "kernelspec": {
   "display_name": "Python 3",
   "language": "python",
   "name": "python3"
  },
  "language_info": {
   "codemirror_mode": {
    "name": "ipython",
    "version": 3
   },
   "file_extension": ".py",
   "mimetype": "text/x-python",
   "name": "python",
   "nbconvert_exporter": "python",
   "pygments_lexer": "ipython3",
   "version": "3.6.10"
  }
 },
 "nbformat": 4,
 "nbformat_minor": 4
}
