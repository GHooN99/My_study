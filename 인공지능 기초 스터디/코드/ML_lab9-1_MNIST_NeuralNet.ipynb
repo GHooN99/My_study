{
 "cells": [
  {
   "cell_type": "code",
   "execution_count": 3,
   "metadata": {},
   "outputs": [],
   "source": [
    "import tensorflow as tf"
   ]
  },
  {
   "cell_type": "code",
   "execution_count": 4,
   "metadata": {},
   "outputs": [
    {
     "name": "stdout",
     "output_type": "stream",
     "text": [
      "Extracting ../데이터/MNIST_data/train-images-idx3-ubyte.gz\n",
      "Extracting ../데이터/MNIST_data/train-labels-idx1-ubyte.gz\n",
      "Extracting ../데이터/MNIST_data/t10k-images-idx3-ubyte.gz\n",
      "Extracting ../데이터/MNIST_data/t10k-labels-idx1-ubyte.gz\n"
     ]
    }
   ],
   "source": [
    "from tensorflow.examples.tutorials.mnist import input_data # 텐서플로 1.14 에서는 가능 1.15에서는 에러떴음\n",
    "mnist = input_data.read_data_sets(\"../데이터/MNIST_data/\",one_hot=True)"
   ]
  },
  {
   "cell_type": "code",
   "execution_count": 16,
   "metadata": {},
   "outputs": [],
   "source": [
    "X = tf.placeholder(tf.float32, shape=[None , 28*28]) # 28*28 \n",
    "Y = tf.placeholder(tf.float32, shape = [None , 10]) # 0 ~ 9 까지의 수 \n",
    "\n",
    "#layer1\n",
    "W1 = tf.Variable(tf.random_normal([28*28,75])) # 입력 * 출력 \n",
    "b1 = tf.Variable(tf.random_normal([75]))\n",
    "layer1 = tf.nn.softmax(tf.matmul(X,W1)+b1)\n",
    "\n",
    "W2 = tf.Variable(tf.random_normal([75,10])) # 입력 * 출력 \n",
    "b2 = tf.Variable(tf.random_normal([10]))\n",
    "hypothesis = tf.nn.softmax(tf.matmul(layer1,W2)+b2)\n",
    "\n",
    "cost = tf.reduce_mean(-tf.reduce_sum(Y*tf.log(hypothesis),axis = 1))\n",
    "\n",
    "optimizer = tf.train.GradientDescentOptimizer(learning_rate = 0.75)\n",
    "\n",
    "train = optimizer.minimize(cost)\n",
    "\n",
    "is_correct = tf.equal(tf.arg_max(hypothesis,1),tf.arg_max(Y,1)) #모델 테스트  가설과 실제가 맞냐\n",
    "\n",
    "accuracy = tf.reduce_mean(tf.cast(is_correct,tf.float32)) #정확도 \n",
    "\n",
    "sess = tf.Session()\n",
    "sess.run(tf.global_variables_initializer())"
   ]
  },
  {
   "cell_type": "code",
   "execution_count": 22,
   "metadata": {},
   "outputs": [
    {
     "name": "stdout",
     "output_type": "stream",
     "text": [
      "0 0.19273693148385407\n",
      "4 0.18925321222367608\n",
      "8 0.1865834824673157\n",
      "12 0.1843069269101727\n",
      "16 0.18148878840560262\n",
      "20 0.18032353753393365\n",
      "24 0.17849296279928906\n",
      "28 0.1767040487378838\n",
      "32 0.17267370023172032\n",
      "36 0.17257379823448998\n",
      "40 0.16962861608375202\n",
      "44 0.16777791662311003\n",
      "48 0.16660835124552245\n",
      "52 0.16374365173280248\n",
      "56 0.16077195277268236\n",
      "60 0.16030809063464424\n",
      "64 0.1581506209651177\n",
      "68 0.15635436533865588\n",
      "72 0.1535598409074273\n",
      "76 0.15297825120389472\n",
      "80 0.15257312859662553\n",
      "84 0.15032129833644095\n",
      "88 0.14908469560471446\n",
      "92 0.14637567866593593\n",
      "96 0.14653691099448624\n",
      "100 0.14498042375526618\n"
     ]
    }
   ],
   "source": [
    "#epoch 와 batch_size \n",
    "#epoch => 모든 데이터를 1번 다 돌림 1epoch \n",
    "#batch_size -> 모든 데이터가 클때 쪼개서 , batch_size * i = 1 epoch\n",
    "\n",
    "training_epochs = 100   #모든데이터 100번 돌림 \n",
    "batch_size = 100   # 100개씩 돌림 \n",
    "for epoch in range(training_epochs+1):\n",
    "    avg_cost =0 \n",
    "    total_batch = int(mnist.train.num_examples / batch_size) # 몇번씩 돌려야 1epoch 인지 구함 \n",
    "    for i in range(total_batch):\n",
    "        batch_xs , batch_ys = mnist.train.next_batch(batch_size) # 다음 데이터를 batch개 불러옴\n",
    "        c_val , _ = sess.run([cost,train],feed_dict={X:batch_xs,Y:batch_ys})\n",
    "        avg_cost += c_val / total_batch  #실제 cost 보다 높게 잡힌다 \n",
    "    if epoch %4 ==0:\n",
    "        print(epoch, avg_cost)"
   ]
  },
  {
   "cell_type": "code",
   "execution_count": 23,
   "metadata": {},
   "outputs": [
    {
     "name": "stdout",
     "output_type": "stream",
     "text": [
      "Accuracy : 0.937\n"
     ]
    }
   ],
   "source": [
    "#평가 \n",
    "print(\"Accuracy :\", accuracy.eval(session=sess,feed_dict={X:mnist.test.images,Y:mnist.test.labels}))\n",
    "# 테스트 셋으로 평가 "
   ]
  },
  {
   "cell_type": "code",
   "execution_count": 24,
   "metadata": {},
   "outputs": [
    {
     "name": "stdout",
     "output_type": "stream",
     "text": [
      "Labal : [1]\n",
      "Predict : [1]\n"
     ]
    },
    {
     "data": {
      "image/png": "[encoded data removed]",
      "text/plain": [
       "<Figure size 432x288 with 1 Axes>"
      ]
     },
     "metadata": {
      "needs_background": "light"
     },
     "output_type": "display_data"
    },
    {
     "name": "stdout",
     "output_type": "stream",
     "text": [
      "Labal : [8]\n",
      "Predict : [8]\n"
     ]
    },
    {
     "data": {
      "image/png": "[encoded data removed]",
      "text/plain": [
       "<Figure size 432x288 with 1 Axes>"
      ]
     },
     "metadata": {
      "needs_background": "light"
     },
     "output_type": "display_data"
    },
    {
     "name": "stdout",
     "output_type": "stream",
     "text": [
      "Labal : [1]\n",
      "Predict : [1]\n"
     ]
    },
    {
     "data": {
      "image/png": "[encoded data removed]",
      "text/plain": [
       "<Figure size 432x288 with 1 Axes>"
      ]
     },
     "metadata": {
      "needs_background": "light"
     },
     "output_type": "display_data"
    },
    {
     "name": "stdout",
     "output_type": "stream",
     "text": [
      "Labal : [2]\n",
      "Predict : [2]\n"
     ]
    },
    {
     "data": {
      "image/png": "[encoded data removed]",
      "text/plain": [
       "<Figure size 432x288 with 1 Axes>"
      ]
     },
     "metadata": {
      "needs_background": "light"
     },
     "output_type": "display_data"
    },
    {
     "name": "stdout",
     "output_type": "stream",
     "text": [
      "Labal : [8]\n",
      "Predict : [8]\n"
     ]
    },
    {
     "data": {
      "image/png": "[encoded data removed]",
      "text/plain": [
       "<Figure size 432x288 with 1 Axes>"
      ]
     },
     "metadata": {
      "needs_background": "light"
     },
     "output_type": "display_data"
    }
   ],
   "source": [
    "# 시각화 출력\n",
    "\n",
    "import matplotlib.pyplot as plt\n",
    "import random\n",
    "\n",
    "for i in range(5):\n",
    "    r=random.randint(0,mnist.test.num_examples -1) # 0부터 9까지\n",
    "\n",
    "    print(\"Labal :\",sess.run(tf.arg_max(mnist.test.labels[r:r+1],1)))\n",
    "    print(\"Predict :\",sess.run(tf.arg_max(hypothesis,1),feed_dict={X:mnist.test.images[r:r+1]}))\n",
    "\n",
    "    plt.imshow(mnist.test.images[r:r+1].reshape(28,28),cmap=\"Greys\",interpolation ='nearest')\n",
    "    plt.show()"
   ]
  }
 ],
 "metadata": {
  "kernelspec": {
   "display_name": "Python 3",
   "language": "python",
   "name": "python3"
  },
  "language_info": {
   "codemirror_mode": {
    "name": "ipython",
    "version": 3
   },
   "file_extension": ".py",
   "mimetype": "text/x-python",
   "name": "python",
   "nbconvert_exporter": "python",
   "pygments_lexer": "ipython3",
   "version": "3.6.10"
  }
 },
 "nbformat": 4,
 "nbformat_minor": 4
}
