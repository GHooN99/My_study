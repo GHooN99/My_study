{
 "cells": [
  {
   "cell_type": "code",
   "execution_count": 1,
   "metadata": {},
   "outputs": [
    {
     "name": "stdout",
     "output_type": "stream",
     "text": [
      "759 759\n"
     ]
    }
   ],
   "source": [
    "import tensorflow as tf\n",
    "import csv\n",
    "import numpy as np\n",
    "\n",
    "\n",
    "data = np.loadtxt('../데이터/diabetes.csv',delimiter=',',dtype=np.float32)\n",
    "\n",
    "x_data = data[:,0:-1]\n",
    "y_data = data[:,[-1]]\n",
    "print(len(x_data),len(y_data))"
   ]
  },
  {
   "cell_type": "code",
   "execution_count": 2,
   "metadata": {},
   "outputs": [
    {
     "name": "stdout",
     "output_type": "stream",
     "text": [
      "0 0.73481816\n",
      "5000 0.47321808\n",
      "10000 0.4718659\n",
      "15000 0.47170165\n",
      "20000 0.4716759\n",
      "25000 0.4716716\n",
      "30000 0.4716709\n",
      "35000 0.47167075\n",
      "40000 0.47167075\n",
      "45000 0.4716707\n",
      "50000 0.47167072\n",
      "55000 0.47167072\n",
      "60000 0.47167072\n",
      "65000 0.47167072\n",
      "70000 0.47167072\n",
      "75000 0.47167072\n",
      "80000 0.47167072\n",
      "85000 0.47167072\n",
      "90000 0.47167072\n",
      "95000 0.47167072\n",
      "100000 0.47167072\n"
     ]
    }
   ],
   "source": [
    "X = tf.placeholder(tf.float32,shape=[None ,8])\n",
    "Y = tf.placeholder(tf.float32,shape=[None ,1])\n",
    "W = tf.Variable(tf.random_normal([8,1]))\n",
    "b = tf.Variable(tf.random_normal([1]))\n",
    "\n",
    "\n",
    "hypothesis = tf.sigmoid(tf.matmul(X,W)+b)  # 행렬곱 , 시그모이드 함수 \n",
    "\n",
    "cost = -tf.reduce_mean(Y*tf.log(hypothesis) + (1-Y)*tf.log(1-hypothesis))  # 새로운 가설 함수\n",
    "\n",
    "\n",
    "optimizer = tf.train.GradientDescentOptimizer(learning_rate=0.05)\n",
    "\n",
    "train = optimizer.minimize(cost)\n",
    "\n",
    "predicted = tf.cast(hypothesis > 0.5 , dtype=tf.float32)   # 예측값 1.0 또는 0. 으로 캐스팅 \n",
    "accuracy = tf.reduce_mean(tf.cast(tf.equal(predicted,Y),dtype = tf.float32)) #정확도 계산 \n",
    "\n",
    "sess = tf.Session()\n",
    "sess.run(tf.global_variables_initializer())\n",
    "\n",
    "for i in range(100001):\n",
    "    c_val , _ = sess.run([cost,train],feed_dict = {X : x_data,Y : y_data})\n",
    "    if i%5000 == 0:\n",
    "        print(i,c_val) \n",
    "    "
   ]
  },
  {
   "cell_type": "code",
   "execution_count": 4,
   "metadata": {},
   "outputs": [
    {
     "name": "stdout",
     "output_type": "stream",
     "text": [
      "\n",
      "Accuracy : 0.76943344\n"
     ]
    }
   ],
   "source": [
    "#정확도 \n",
    "h , c, a =sess.run([hypothesis , predicted , accuracy],feed_dict ={X:x_data,Y:y_data})\n",
    "\n",
    "print(\"\\nAccuracy :\",a)\n",
    "#만약 0.5 아주 작은 근처의 값이면 ??"
   ]
  }
 ],
 "metadata": {
  "kernelspec": {
   "display_name": "Python 3",
   "language": "python",
   "name": "python3"
  },
  "language_info": {
   "codemirror_mode": {
    "name": "ipython",
    "version": 3
   },
   "file_extension": ".py",
   "mimetype": "text/x-python",
   "name": "python",
   "nbconvert_exporter": "python",
   "pygments_lexer": "ipython3",
   "version": "3.6.10"
  }
 },
 "nbformat": 4,
 "nbformat_minor": 4
}
