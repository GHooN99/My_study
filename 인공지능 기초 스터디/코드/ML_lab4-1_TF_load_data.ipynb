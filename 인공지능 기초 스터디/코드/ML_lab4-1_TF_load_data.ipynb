{
 "cells": [
  {
   "cell_type": "code",
   "execution_count": 51,
   "metadata": {},
   "outputs": [
    {
     "name": "stdout",
     "output_type": "stream",
     "text": [
      "[[ -4.9 -11.    0.9   0. ]\n",
      " [ -3.1  -5.5   5.5   0.8]\n",
      " [ -2.9  -6.9   1.4   0. ]\n",
      " ...\n",
      " [  2.9  -2.1   8.    0. ]\n",
      " [  2.9  -1.6   7.1   0.6]\n",
      " [  2.1  -2.    5.8   0.4]] [[2123.]\n",
      " [2123.]\n",
      " [2123.]\n",
      " ...\n",
      " [2901.]\n",
      " [2901.]\n",
      " [2901.]]\n",
      "2922 2922\n"
     ]
    }
   ],
   "source": [
    "#배추가격 예측 데이터 \n",
    "import numpy as np \n",
    "\n",
    "xy = np.loadtxt('../데이터/price_data.csv',delimiter=',',dtype=np.float32) #데이터 읽기\n",
    "\n",
    "\n",
    "x_data = xy[:,1:-1] #전체 n개 를 1부터 -1 전까지 x 데이터 가져오기\n",
    "y_data = xy[:,[-1]] #y 데이터 가져오기 \n",
    "print(x_data,y_data)\n",
    "print(len(x_data),len(y_data)) # 데이터 개수 확인 "
   ]
  },
  {
   "cell_type": "code",
   "execution_count": 48,
   "metadata": {},
   "outputs": [
    {
     "name": "stdout",
     "output_type": "stream",
     "text": [
      "0 12827995.0\n",
      "2500 2053036.6\n",
      "5000 1944653.2\n",
      "7500 1889792.0\n",
      "10000 1860741.0\n",
      "12500 1844956.2\n",
      "15000 1836260.4\n",
      "17500 1831434.0\n",
      "20000 1828745.5\n",
      "22500 1827244.6\n",
      "25000 1826407.2\n",
      "27500 1825938.6\n",
      "30000 1825676.1\n",
      "32500 1825530.0\n",
      "35000 1825447.8\n",
      "37500 1825401.8\n",
      "40000 1825376.4\n",
      "42500 1825361.9\n",
      "45000 1825354.1\n",
      "47500 1825349.6\n",
      "50000 1825347.2\n",
      "52500 1825346.0\n",
      "55000 1825345.4\n",
      "57500 1825344.2\n",
      "60000 1825344.2\n",
      "62500 1825344.0\n",
      "65000 1825343.6\n",
      "67500 1825343.6\n",
      "70000 1825344.0\n",
      "72500 1825344.2\n",
      "75000 1825344.0\n",
      "77500 1825344.0\n",
      "80000 1825344.0\n",
      "82500 1825344.0\n",
      "85000 1825344.0\n",
      "87500 1825344.0\n",
      "90000 1825344.0\n",
      "92500 1825344.0\n",
      "95000 1825344.0\n",
      "97500 1825344.0\n",
      "100000 1825344.0\n",
      "102500 1825344.0\n",
      "105000 1825344.0\n",
      "107500 1825344.0\n",
      "110000 1825344.0\n",
      "112500 1825344.0\n",
      "115000 1825344.0\n",
      "117500 1825344.0\n",
      "120000 1825344.0\n",
      "122500 1825344.0\n",
      "125000 1825344.0\n",
      "127500 1825344.0\n",
      "130000 1825344.0\n",
      "132500 1825344.0\n",
      "135000 1825344.0\n",
      "137500 1825344.0\n",
      "140000 1825344.0\n",
      "142500 1825344.0\n",
      "145000 1825344.0\n",
      "147500 1825344.0\n",
      "150000 1825344.0\n"
     ]
    }
   ],
   "source": [
    "import tensorflow as tf\n",
    "tf.set_random_seed(10)  # 난수 시드 설정\n",
    "\n",
    "\n",
    "X=tf.placeholder(tf.float32,shape=[None,4])   #shape 주의 \n",
    "\n",
    "Y=tf.placeholder(tf.float32,shape=[None,1])\n",
    "\n",
    "W=tf.Variable(tf.random_normal([4,1]))  # 4x1 행렬 \n",
    "\n",
    "b=tf.Variable(tf.random_normal([1]))\n",
    "\n",
    "hypothesis = tf.matmul(X,W)+b        #행렬 곱 \n",
    "\n",
    "cost = tf.reduce_mean(tf.square(hypothesis-Y))\n",
    "\n",
    "optimizer = tf.train.GradientDescentOptimizer(learning_rate=0.00115)\n",
    "\n",
    "train = optimizer.minimize(cost)\n",
    "\n",
    "sess= tf.Session()\n",
    "\n",
    "sess.run(tf.global_variables_initializer())\n",
    "\n",
    "for i in range(150001):\n",
    "    vcost,_ = sess.run([cost,train] ,feed_dict={X:x_data,Y:y_data})\n",
    "    if i%2500==0:\n",
    "        print(i,vcost)\n"
   ]
  },
  {
   "cell_type": "code",
   "execution_count": 50,
   "metadata": {},
   "outputs": [
    {
     "name": "stdout",
     "output_type": "stream",
     "text": [
      "평균기온 :-2.7\n",
      "최저기온 :-6.6\n",
      "최고기온 :2.\n",
      "강수량 :0.1\n",
      "price : [[2924.2476]]\n"
     ]
    }
   ],
   "source": [
    "avgTemp=float(input('평균기온 :'))\n",
    "minTemp=float(input('최저기온 :'))\n",
    "maxTemp=float(input('최고기온 :'))\n",
    "rainFall=float(input('강수량 :'))\n",
    "k=[avgTemp,minTemp,maxTemp,rainFall]\n",
    "price = sess.run(hypothesis,feed_dict={X:[k]})\n",
    "print(\"price :\",price)\n"
   ]
  }
 ],
 "metadata": {
  "kernelspec": {
   "display_name": "Python 3",
   "language": "python",
   "name": "python3"
  },
  "language_info": {
   "codemirror_mode": {
    "name": "ipython",
    "version": 3
   },
   "file_extension": ".py",
   "mimetype": "text/x-python",
   "name": "python",
   "nbconvert_exporter": "python",
   "pygments_lexer": "ipython3",
   "version": "3.6.10"
  }
 },
 "nbformat": 4,
 "nbformat_minor": 4
}
