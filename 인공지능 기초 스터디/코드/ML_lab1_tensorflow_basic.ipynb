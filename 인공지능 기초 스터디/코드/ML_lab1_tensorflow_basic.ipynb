{
 "cells": [
  {
   "cell_type": "code",
   "execution_count": 6,
   "metadata": {
    "scrolled": true
   },
   "outputs": [
    {
     "data": {
      "text/plain": [
       "'1.15.2'"
      ]
     },
     "execution_count": 6,
     "metadata": {},
     "output_type": "execute_result"
    }
   ],
   "source": [
    "import tensorflow as tf\n",
    "tf.__version__    #버전 확인 "
   ]
  },
  {
   "cell_type": "code",
   "execution_count": 5,
   "metadata": {},
   "outputs": [
    {
     "name": "stdout",
     "output_type": "stream",
     "text": [
      "b'Hello tf!'\n"
     ]
    }
   ],
   "source": [
    "hi=tf.constant(\"Hello tf!\")  \n",
    "\n",
    "sess=tf.Session()\n",
    "\n",
    "print(sess.run(hi))\n"
   ]
  },
  {
   "cell_type": "code",
   "execution_count": 7,
   "metadata": {},
   "outputs": [],
   "source": [
    "node1= tf.constant(3.0,tf.float32) #자료형\n",
    "node2= tf.constant(4.0,tf.float32)\n",
    "node3= tf.add(node1,node2) #덧셈\n"
   ]
  },
  {
   "cell_type": "code",
   "execution_count": 8,
   "metadata": {},
   "outputs": [
    {
     "name": "stdout",
     "output_type": "stream",
     "text": [
      "Tensor(\"Const_1:0\", shape=(), dtype=float32) Tensor(\"Const_2:0\", shape=(), dtype=float32) Tensor(\"Add:0\", shape=(), dtype=float32)\n"
     ]
    }
   ],
   "source": [
    "print(node1,node2,node3)"
   ]
  },
  {
   "cell_type": "code",
   "execution_count": 11,
   "metadata": {},
   "outputs": [
    {
     "name": "stdout",
     "output_type": "stream",
     "text": [
      "sess.run으로 출력 [3.0, 4.0]\n",
      "덧셈 7.0\n"
     ]
    }
   ],
   "source": [
    "sess=tf.Session()\n",
    "print(\"sess.run으로 출력\",sess.run([node1,node2]))\n",
    "print(\"덧셈\",sess.run(node3))\n"
   ]
  },
  {
   "cell_type": "code",
   "execution_count": 13,
   "metadata": {},
   "outputs": [
    {
     "name": "stdout",
     "output_type": "stream",
     "text": [
      "7.5\n",
      "[3. 9.]\n"
     ]
    }
   ],
   "source": [
    "#Placeholder\n",
    "a=tf.placeholder(tf.float32)\n",
    "b=tf.placeholder(tf.float32)\n",
    "adder_node = a + b    #add node \n",
    "\n",
    "print(sess.run(adder_node , feed_dict={a:3,b:4.5}))   #a,b(함수인자느낌?)를 dict 로 넘겨준다\n",
    "print(sess.run(adder_node , feed_dict={a:[1,3],b:[2,6]})) #리스트로 \n"
   ]
  }
 ],
 "metadata": {
  "kernelspec": {
   "display_name": "Python 3",
   "language": "python",
   "name": "python3"
  },
  "language_info": {
   "codemirror_mode": {
    "name": "ipython",
    "version": 3
   },
   "file_extension": ".py",
   "mimetype": "text/x-python",
   "name": "python",
   "nbconvert_exporter": "python",
   "pygments_lexer": "ipython3",
   "version": "3.6.10"
  }
 },
 "nbformat": 4,
 "nbformat_minor": 4
}
