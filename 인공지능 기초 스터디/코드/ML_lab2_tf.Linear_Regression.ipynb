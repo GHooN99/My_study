{
 "cells": [
  {
   "cell_type": "code",
   "execution_count": 1,
   "metadata": {},
   "outputs": [],
   "source": [
    "import tensorflow as tf\n",
    "\n",
    "x_data=[1,2,3]\n",
    "y_data=[1,2,3]  \n",
    "\n",
    "# H = WX + b (W:1,b:0)\n",
    "\n",
    "W=tf.Variable(tf.random_normal([1]), name = 'weight')\n",
    "b=tf.Variable(tf.random_normal([1]), name = 'bias')\n",
    "\n",
    "hypothesis = x_data * W + b\n",
    "learning_rate= 0.01\n",
    "\n",
    "cost = tf.reduce_mean(tf.square(hypothesis-y_data))  #reduce_mean 은 1/N*sigma()\n",
    "\n",
    "optimizer=tf.train.GradientDescentOptimizer(learning_rate)   # 경사하강알고리즘\n",
    "\n",
    "train = optimizer.minimize(cost)  #cost_func 최소화\n"
   ]
  },
  {
   "cell_type": "code",
   "execution_count": 4,
   "metadata": {},
   "outputs": [
    {
     "name": "stdout",
     "output_type": "stream",
     "text": [
      "0 14.225594 [-0.6643415] [-0.1896837]\n",
      "500 0.0026701335 [0.9399846] [0.13642909]\n",
      "1000 0.00024058162 [0.9819853] [0.04095166]\n",
      "1500 2.1676955e-05 [0.99459255] [0.01229236]\n",
      "2000 1.9532738e-06 [0.99837685] [0.00368986]\n",
      "2500 1.7610898e-07 [0.9995126] [0.00110794]\n",
      "3000 1.5957607e-08 [0.99985313] [0.0003335]\n",
      "3500 1.4574285e-09 [0.9999557] [0.00010098]\n",
      "4000 1.2942418e-10 [0.9999867] [3.0160598e-05]\n",
      "4500 1.584155e-11 [0.99999523] [1.0456508e-05]\n",
      "5000 4.6280015e-12 [0.99999726] [5.618998e-06]\n",
      "5500 3.155994e-12 [0.99999774] [4.4984213e-06]\n",
      "6000 3.155994e-12 [0.99999774] [4.4706e-06]\n",
      "6500 3.155994e-12 [0.99999774] [4.4706e-06]\n",
      "7000 3.155994e-12 [0.99999774] [4.4706e-06]\n",
      "7500 3.155994e-12 [0.99999774] [4.4706e-06]\n",
      "8000 3.155994e-12 [0.99999774] [4.4706e-06]\n",
      "8500 3.155994e-12 [0.99999774] [4.4706e-06]\n",
      "9000 3.155994e-12 [0.99999774] [4.4706e-06]\n",
      "9500 3.155994e-12 [0.99999774] [4.4706e-06]\n",
      "10000 3.155994e-12 [0.99999774] [4.4706e-06]\n"
     ]
    }
   ],
   "source": [
    "sess = tf.Session() #세션열기\n",
    "sess.run(tf.global_variables_initializer()) #변수 초기화\n",
    "\n",
    "# train 모델 반복 학습?\n",
    "for i in range(10001):\n",
    "    sess.run(train)\n",
    "    if i % 500 == 0:\n",
    "        print(i,sess.run(cost),sess.run(W),sess.run(b)) #각 변수 출력 \n"
   ]
  },
  {
   "cell_type": "code",
   "execution_count": 14,
   "metadata": {},
   "outputs": [
    {
     "name": "stdout",
     "output_type": "stream",
     "text": [
      "0 14.004613 [-0.39429867] [-0.33797002]\n",
      "2000 5.059369e-07 [0.99917585] [0.00187333]\n",
      "4000 3.683927e-11 [0.9999929] [1.581928e-05]\n",
      "6000 3.0695446e-12 [0.99999785] [4.350497e-06]\n",
      "8000 3.0695446e-12 [0.99999785] [4.350497e-06]\n",
      "10000 3.0695446e-12 [0.99999785] [4.350497e-06]\n",
      "12000 3.0695446e-12 [0.99999785] [4.350497e-06]\n",
      "14000 3.0695446e-12 [0.99999785] [4.350497e-06]\n",
      "16000 3.0695446e-12 [0.99999785] [4.350497e-06]\n",
      "18000 3.0695446e-12 [0.99999785] [4.350497e-06]\n",
      "20000 3.0695446e-12 [0.99999785] [4.350497e-06]\n",
      "22000 3.0695446e-12 [0.99999785] [4.350497e-06]\n",
      "24000 3.0695446e-12 [0.99999785] [4.350497e-06]\n",
      "26000 3.0695446e-12 [0.99999785] [4.350497e-06]\n",
      "28000 3.0695446e-12 [0.99999785] [4.350497e-06]\n",
      "30000 3.0695446e-12 [0.99999785] [4.350497e-06]\n",
      "32000 3.0695446e-12 [0.99999785] [4.350497e-06]\n",
      "34000 3.0695446e-12 [0.99999785] [4.350497e-06]\n",
      "36000 3.0695446e-12 [0.99999785] [4.350497e-06]\n",
      "38000 3.0695446e-12 [0.99999785] [4.350497e-06]\n",
      "40000 3.0695446e-12 [0.99999785] [4.350497e-06]\n",
      "42000 3.0695446e-12 [0.99999785] [4.350497e-06]\n",
      "44000 3.0695446e-12 [0.99999785] [4.350497e-06]\n",
      "46000 3.0695446e-12 [0.99999785] [4.350497e-06]\n",
      "48000 3.0695446e-12 [0.99999785] [4.350497e-06]\n",
      "50000 3.0695446e-12 [0.99999785] [4.350497e-06]\n"
     ]
    }
   ],
   "source": [
    "#Placeholder 로 넘겨주기\n",
    "\n",
    "X=tf.placeholder(tf.float32)\n",
    "Y=tf.placeholder(tf.float32)\n",
    "\n",
    "W=tf.Variable(tf.random_normal([1]), name = 'weight')\n",
    "b=tf.Variable(tf.random_normal([1]), name = 'bias')\n",
    "\n",
    "hypothesis = X * W + b\n",
    "learning_rate= 0.01\n",
    "\n",
    "cost = tf.reduce_mean(tf.square(hypothesis-Y))  #reduce_mean 은 1/N*sigma()\n",
    "\n",
    "optimizer=tf.train.GradientDescentOptimizer(learning_rate)   # 경사하강알고리즘\n",
    "\n",
    "train = optimizer.minimize(cost)  #cost_func 최소화\n",
    "\n",
    "sess = tf.Session() #세션열기\n",
    "sess.run(tf.global_variables_initializer()) #변수 초기화\n",
    "\n",
    "# train 모델 반복 학습?\n",
    "for i in range(50001):\n",
    "    cost_val, W_val, b_val, _ = sess.run([cost,W,b,train],feed_dict={X:[1,2,3],Y:[1,2,3]})\n",
    "    # 각각변수에 값 할당 마지막 _은 사용 x  feed_dict로 값 넘겨주기 \n",
    "    if i % 2000 == 0:\n",
    "        print(i,cost_val,W_val,b_val) #각 변수 출력 \n"
   ]
  },
  {
   "cell_type": "code",
   "execution_count": 16,
   "metadata": {},
   "outputs": [
    {
     "name": "stdout",
     "output_type": "stream",
     "text": [
      "[7.999987]\n"
     ]
    }
   ],
   "source": [
    "#예측 \n",
    "print(sess.run(hypothesis, feed_dict={X:[8]}))"
   ]
  }
 ],
 "metadata": {
  "kernelspec": {
   "display_name": "Python 3",
   "language": "python",
   "name": "python3"
  },
  "language_info": {
   "codemirror_mode": {
    "name": "ipython",
    "version": 3
   },
   "file_extension": ".py",
   "mimetype": "text/x-python",
   "name": "python",
   "nbconvert_exporter": "python",
   "pygments_lexer": "ipython3",
   "version": "3.6.10"
  }
 },
 "nbformat": 4,
 "nbformat_minor": 4
}
