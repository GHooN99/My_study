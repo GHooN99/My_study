{
 "cells": [
  {
   "cell_type": "code",
   "execution_count": 1,
   "metadata": {},
   "outputs": [],
   "source": [
    "import pandas as pd"
   ]
  },
  {
   "cell_type": "code",
   "execution_count": 2,
   "metadata": {},
   "outputs": [
    {
     "name": "stdout",
     "output_type": "stream",
     "text": [
      "0    apple\n",
      "1       42\n",
      "dtype: object\n"
     ]
    }
   ],
   "source": [
    "s = pd.Series(['apple',42])\n",
    "print(s)"
   ]
  },
  {
   "cell_type": "code",
   "execution_count": 4,
   "metadata": {},
   "outputs": [
    {
     "name": "stdout",
     "output_type": "stream",
     "text": [
      "Fruit    banana\n",
      "count       100\n",
      "dtype: object\n"
     ]
    }
   ],
   "source": [
    "s = pd.Series(['banana',100], index=['Fruit' ,'count' ]) #인덱스를 지정도 가능 \n",
    "print(s)"
   ]
  },
  {
   "cell_type": "code",
   "execution_count": 7,
   "metadata": {},
   "outputs": [
    {
     "name": "stdout",
     "output_type": "stream",
     "text": [
      "100\n",
      "banana\n"
     ]
    }
   ],
   "source": [
    "#loc 과 iloc 접근 복습\n",
    "print(s.iloc[1])\n",
    "print(s.loc['Fruit'])"
   ]
  },
  {
   "cell_type": "markdown",
   "metadata": {},
   "source": [
    "### 데이터 프레임 만들기\n"
   ]
  },
  {
   "cell_type": "code",
   "execution_count": 12,
   "metadata": {},
   "outputs": [
    {
     "name": "stdout",
     "output_type": "stream",
     "text": [
      "   age name  weight\n",
      "1   12    a      40\n",
      "2   15    b      50\n",
      "3   14    c      60\n"
     ]
    }
   ],
   "source": [
    "# 딕셔너리를 넣어줘야함 \n",
    "\n",
    "person_dict = {'name':['a','b','c'],'age':[12,15,14],'weight':[40,50,60] }\n",
    "person = pd.DataFrame(person_dict, index=[1,2,3],columns=['age','name','weight'])\n",
    "# 인덱스를 직접 변경 , 열의 순서도 직접 변경 \n",
    "\n",
    "print(person)"
   ]
  },
  {
   "cell_type": "code",
   "execution_count": 13,
   "metadata": {},
   "outputs": [
    {
     "name": "stdout",
     "output_type": "stream",
     "text": [
      "  name  age  weight\n",
      "0    a   12      40\n",
      "1    b   15      50\n",
      "2    c   14      60\n"
     ]
    }
   ],
   "source": [
    "from collections import OrderedDict\n",
    "person = pd.DataFrame(OrderedDict(person_dict)) #순서가 보장된 딕셔너리 \n",
    "print(person)"
   ]
  },
  {
   "cell_type": "markdown",
   "metadata": {},
   "source": [
    "### 시리즈 다루기 - 기초"
   ]
  },
  {
   "cell_type": "code",
   "execution_count": 22,
   "metadata": {},
   "outputs": [
    {
     "name": "stdout",
     "output_type": "stream",
     "text": [
      "                     Occupation        Born        Died  Age\n",
      "Rosaline Franklin       Chemist  1920-07-25  1958-04-16   37\n",
      "William Gosset     Statistician  1876-06-13  1937-10-16   61\n"
     ]
    }
   ],
   "source": [
    "s_dict={\n",
    "           'Occupation': ['Chemist', 'Statistician'],\n",
    "           'Born': ['1920-07-25', '1876-06-13'],\n",
    "           'Died': ['1958-04-16', '1937-10-16'], \n",
    "           'Age': [37, 61]\n",
    "}\n",
    "            \n",
    "scientists = pd.DataFrame(s_dict,index = ['Rosaline Franklin', 'William Gosset'] ) \n",
    "    \n",
    "print(scientists)\n",
    "   "
   ]
  },
  {
   "cell_type": "code",
   "execution_count": 23,
   "metadata": {},
   "outputs": [
    {
     "name": "stdout",
     "output_type": "stream",
     "text": [
      "Occupation       Chemist\n",
      "Born          1920-07-25\n",
      "Died          1958-04-16\n",
      "Age                   37\n",
      "Name: Rosaline Franklin, dtype: object\n"
     ]
    }
   ],
   "source": [
    "first_row = scientists.loc['Rosaline Franklin']\n",
    "print(first_row)"
   ]
  },
  {
   "cell_type": "code",
   "execution_count": 29,
   "metadata": {},
   "outputs": [
    {
     "name": "stdout",
     "output_type": "stream",
     "text": [
      "Index(['Occupation', 'Born', 'Died', 'Age'], dtype='object')\n",
      "Index(['Occupation', 'Born', 'Died', 'Age'], dtype='object')\n",
      "Age\n"
     ]
    }
   ],
   "source": [
    "#index \n",
    "print(first_row.index) #인덱스\n",
    "print(first_row.keys()) # 이것과 같음 \n",
    "print(first_row.index[3]) # 인덱싱 가능 "
   ]
  },
  {
   "cell_type": "code",
   "execution_count": 30,
   "metadata": {},
   "outputs": [
    {
     "name": "stdout",
     "output_type": "stream",
     "text": [
      "['Chemist' '1920-07-25' '1958-04-16' 37]\n",
      "1958-04-16\n"
     ]
    }
   ],
   "source": [
    "print(first_row.values) #값\n",
    "print(first_row.values[2]) #인덱싱 가능"
   ]
  },
  {
   "cell_type": "code",
   "execution_count": 38,
   "metadata": {},
   "outputs": [
    {
     "name": "stdout",
     "output_type": "stream",
     "text": [
      "Rosaline Franklin    37\n",
      "William Gosset       61\n",
      "Name: Age, dtype: int64\n",
      "Max = 61\n",
      "Min = 37\n",
      "Avg = 49.0\n",
      "Std = 16.97056274847714\n"
     ]
    }
   ],
   "source": [
    "#기초 통계\n",
    "ages = scientists['Age']\n",
    "print(ages)\n",
    "print(\"Max =\",ages.max()) #정수일때\n",
    "print(\"Min =\",ages.min())\n",
    "print(\"Avg =\",ages.mean())\n",
    "print(\"Std =\",ages.std())"
   ]
  },
  {
   "cell_type": "markdown",
   "metadata": {},
   "source": [
    "### 시리즈 다루기 - 응용"
   ]
  },
  {
   "cell_type": "code",
   "execution_count": 39,
   "metadata": {},
   "outputs": [],
   "source": [
    "scientists = pd.read_csv(\"../데이터/scientists.csv\")"
   ]
  },
  {
   "cell_type": "code",
   "execution_count": 48,
   "metadata": {},
   "outputs": [
    {
     "name": "stdout",
     "output_type": "stream",
     "text": [
      "8\n",
      "                   Name        Born        Died  Age    Occupation\n",
      "0     Rosaline Franklin  1920-07-25  1958-04-16   37       Chemist\n",
      "1        William Gosset  1876-06-13  1937-10-16   61  Statistician\n",
      "2  Florence Nightingale  1820-05-12  1910-08-13   90         Nurse\n",
      "3           Marie Curie  1867-11-07  1934-07-04   66       Chemist\n",
      "4         Rachel Carson  1907-05-27  1964-04-14   56     Biologist\n"
     ]
    }
   ],
   "source": [
    "print(len(scientists))\n",
    "print(scientists.head())"
   ]
  },
  {
   "cell_type": "code",
   "execution_count": 43,
   "metadata": {},
   "outputs": [
    {
     "name": "stdout",
     "output_type": "stream",
     "text": [
      "59.125\n",
      "Max = 90\n",
      "Min = 37\n",
      "Avg = 59.125\n",
      "Std = 18.325918413937288\n"
     ]
    }
   ],
   "source": [
    "# 조건으로 찾기 \n",
    "ages = scientists['Age']\n",
    "print(\"Max =\",ages.max()) #정수일때\n",
    "print(\"Min =\",ages.min())\n",
    "print(\"Avg =\",ages.mean())\n",
    "print(\"Std =\",ages.std())"
   ]
  },
  {
   "cell_type": "code",
   "execution_count": 46,
   "metadata": {},
   "outputs": [
    {
     "name": "stdout",
     "output_type": "stream",
     "text": [
      "1    61\n",
      "2    90\n",
      "3    66\n",
      "7    77\n",
      "Name: Age, dtype: int64\n"
     ]
    }
   ],
   "source": [
    "print(ages[ages>ages.mean()]) # 평균보다 많은 나이 출력"
   ]
  },
  {
   "cell_type": "code",
   "execution_count": 49,
   "metadata": {},
   "outputs": [
    {
     "name": "stdout",
     "output_type": "stream",
     "text": [
      "0    False\n",
      "1     True\n",
      "2     True\n",
      "3     True\n",
      "4    False\n",
      "5    False\n",
      "6    False\n",
      "7     True\n",
      "Name: Age, dtype: bool\n"
     ]
    }
   ],
   "source": [
    "print(ages>ages.mean()) #boolean으로 반환 "
   ]
  },
  {
   "cell_type": "code",
   "execution_count": 51,
   "metadata": {},
   "outputs": [
    {
     "name": "stdout",
     "output_type": "stream",
     "text": [
      "0     47\n",
      "1     71\n",
      "2    100\n",
      "3     76\n",
      "4     66\n",
      "5     55\n",
      "6     51\n",
      "7     87\n",
      "Name: Age, dtype: int64\n",
      "0    370\n",
      "1    610\n",
      "2    900\n",
      "3    660\n",
      "4    560\n",
      "5    450\n",
      "6    410\n",
      "7    770\n",
      "Name: Age, dtype: int64\n"
     ]
    }
   ],
   "source": [
    "#브로드 케스팅\n",
    "print(ages+10)\n",
    "print(ages*10)"
   ]
  },
  {
   "cell_type": "markdown",
   "metadata": {},
   "source": [
    "### 데이터 프레임 다루기"
   ]
  },
  {
   "cell_type": "code",
   "execution_count": 63,
   "metadata": {},
   "outputs": [
    {
     "name": "stdout",
     "output_type": "stream",
     "text": [
      "                   Name        Born        Died  Age          Occupation\n",
      "0     Rosaline Franklin  1920-07-25  1958-04-16   37             Chemist\n",
      "2  Florence Nightingale  1820-05-12  1910-08-13   90               Nurse\n",
      "4         Rachel Carson  1907-05-27  1964-04-14   56           Biologist\n",
      "6           Alan Turing  1912-06-23  1954-06-07   41  Computer Scientist\n",
      "____________________________________________________________\n",
      "0    37\n",
      "1    61\n",
      "2    90\n",
      "3    66\n",
      "4    56\n",
      "5    45\n",
      "6    41\n",
      "7    77\n",
      "Name: Age, dtype: int64\n",
      "____________________________________________________________\n",
      "                   Name        Born        Died  Age     Occupation\n",
      "1        William Gosset  1876-06-13  1937-10-16   61   Statistician\n",
      "2  Florence Nightingale  1820-05-12  1910-08-13   90          Nurse\n",
      "3           Marie Curie  1867-11-07  1934-07-04   66        Chemist\n",
      "7          Johann Gauss  1777-04-30  1855-02-23   77  Mathematician\n"
     ]
    }
   ],
   "source": [
    "print(scientists.loc[[True,False,True,False,True,False,True,False]]) # bool벡터\n",
    "print(\"____________________________________________________________\")\n",
    "print(scientists['Age'])\n",
    "print(\"____________________________________________________________\")\n",
    "bool_v = scientists['Age']>scientists['Age'].mean() \n",
    "print(scientists.loc[bool_v])"
   ]
  },
  {
   "cell_type": "code",
   "execution_count": null,
   "metadata": {},
   "outputs": [],
   "source": []
  }
 ],
 "metadata": {
  "kernelspec": {
   "display_name": "Python 3",
   "language": "python",
   "name": "python3"
  },
  "language_info": {
   "codemirror_mode": {
    "name": "ipython",
    "version": 3
   },
   "file_extension": ".py",
   "mimetype": "text/x-python",
   "name": "python",
   "nbconvert_exporter": "python",
   "pygments_lexer": "ipython3",
   "version": "3.6.10"
  }
 },
 "nbformat": 4,
 "nbformat_minor": 4
}
