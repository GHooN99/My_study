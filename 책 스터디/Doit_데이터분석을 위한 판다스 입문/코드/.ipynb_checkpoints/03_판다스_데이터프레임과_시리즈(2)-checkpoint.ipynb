{
 "cells": [
  {
   "cell_type": "code",
   "execution_count": 1,
   "metadata": {},
   "outputs": [],
   "source": [
    "import pandas as pd\n",
    "scientists = pd.read_csv(\"../데이터/scientists.csv\")"
   ]
  },
  {
   "cell_type": "markdown",
   "metadata": {},
   "source": [
    "### 시리즈와 데이터 프레임 데이터 처리하기"
   ]
  },
  {
   "cell_type": "code",
   "execution_count": 6,
   "metadata": {},
   "outputs": [
    {
     "name": "stdout",
     "output_type": "stream",
     "text": [
      "object\n",
      "0    1958-04-16\n",
      "1    1937-10-16\n",
      "Name: Died, dtype: object\n"
     ]
    }
   ],
   "source": [
    "print(scientists['Born'].dtype) #문자열 임\n",
    "print(scientists['Died'].head(2))# 얘도 "
   ]
  },
  {
   "cell_type": "code",
   "execution_count": 11,
   "metadata": {},
   "outputs": [
    {
     "name": "stdout",
     "output_type": "stream",
     "text": [
      "0   1920-07-25\n",
      "1   1876-06-13\n",
      "Name: Born, dtype: datetime64[ns]\n"
     ]
    }
   ],
   "source": [
    "# 시간으로 바꿔 보자! #시간 작업을 해보자\n",
    "\n",
    "Born_DateTime = pd.to_datetime(scientists['Born'],format='%Y-%m-%d') #년 월 일 로 포맷 지정\n",
    "Died_DateTime = pd.to_datetime(scientists['Died'],format='%Y-%m-%d')\n",
    "print(Born_DateTime.head(2))"
   ]
  },
  {
   "cell_type": "code",
   "execution_count": 12,
   "metadata": {},
   "outputs": [
    {
     "name": "stdout",
     "output_type": "stream",
     "text": [
      "                Name        Born        Died  Age    Occupation    Born_dt  \\\n",
      "0  Rosaline Franklin  1920-07-25  1958-04-16   37       Chemist 1920-07-25   \n",
      "1     William Gosset  1876-06-13  1937-10-16   61  Statistician 1876-06-13   \n",
      "\n",
      "     Died_dt  \n",
      "0 1958-04-16  \n",
      "1 1937-10-16  \n"
     ]
    }
   ],
   "source": [
    "#수명을 구해서 새로운 열로 추가 해보자\n",
    "scientists['Born_dt'] , scientists['Died_dt'] = (Born_DateTime,Died_DateTime)\n",
    "print(scientists.head(2))"
   ]
  },
  {
   "cell_type": "code",
   "execution_count": 14,
   "metadata": {},
   "outputs": [
    {
     "name": "stdout",
     "output_type": "stream",
     "text": [
      "                Name        Born        Died  Age    Occupation    Born_dt  \\\n",
      "0  Rosaline Franklin  1920-07-25  1958-04-16   37       Chemist 1920-07-25   \n",
      "1     William Gosset  1876-06-13  1937-10-16   61  Statistician 1876-06-13   \n",
      "\n",
      "     Died_dt lifeTime_day  \n",
      "0 1958-04-16   13779 days  \n",
      "1 1937-10-16   22404 days  \n"
     ]
    }
   ],
   "source": [
    "scientists['lifeTime_day'] = scientists['Died_dt']- scientists['Born_dt']\n",
    "print(scientists.head(2))"
   ]
  },
  {
   "cell_type": "code",
   "execution_count": 16,
   "metadata": {},
   "outputs": [
    {
     "name": "stdout",
     "output_type": "stream",
     "text": [
      "                Name        Born        Died Occupation    Born_dt    Died_dt  \\\n",
      "0  Rosaline Franklin  1920-07-25  1958-04-16    Chemist 1920-07-25 1958-04-16   \n",
      "\n",
      "  lifeTime_day  \n",
      "0   13779 days  \n",
      "Index(['Name', 'Born', 'Died', 'Age', 'Occupation', 'Born_dt', 'Died_dt',\n",
      "       'lifeTime_day'],\n",
      "      dtype='object')\n",
      "Index(['Name', 'Born', 'Died', 'Occupation', 'Born_dt', 'Died_dt',\n",
      "       'lifeTime_day'],\n",
      "      dtype='object')\n"
     ]
    }
   ],
   "source": [
    "#열 삭제하기 \n",
    "dropped_col = scientists.drop(['Age'],axis=1)\n",
    "print(dropped_col.head(1))\n",
    "print(scientists.columns)\n",
    "print(dropped_col.columns) # Age 가 삭제됨 "
   ]
  },
  {
   "cell_type": "markdown",
   "metadata": {},
   "source": [
    "### 판다스 데이터를 저장하고 불러오기"
   ]
  },
  {
   "cell_type": "code",
   "execution_count": 17,
   "metadata": {},
   "outputs": [],
   "source": [
    "# 만들어진 데이터프레임 을 저장 \n",
    "names = scientists['Name']\n",
    "names.to_pickle(\"../데이터/scientists_name_df.pickle\")\n",
    "scientists.to_pickle(\"../데이터/scientists_df.pickle\")"
   ]
  },
  {
   "cell_type": "code",
   "execution_count": 18,
   "metadata": {},
   "outputs": [
    {
     "name": "stdout",
     "output_type": "stream",
     "text": [
      "                   Name        Born        Died  Age    Occupation    Born_dt  \\\n",
      "0     Rosaline Franklin  1920-07-25  1958-04-16   37       Chemist 1920-07-25   \n",
      "1        William Gosset  1876-06-13  1937-10-16   61  Statistician 1876-06-13   \n",
      "2  Florence Nightingale  1820-05-12  1910-08-13   90         Nurse 1820-05-12   \n",
      "\n",
      "     Died_dt lifeTime_day  \n",
      "0 1958-04-16   13779 days  \n",
      "1 1937-10-16   22404 days  \n",
      "2 1910-08-13   32964 days  \n"
     ]
    }
   ],
   "source": [
    "#불러오기 \n",
    "scientists_from_pickle = pd.read_pickle(\"../데이터/scientists_df.pickle\")\n",
    "print(scientists_from_pickle.head(3))"
   ]
  },
  {
   "cell_type": "code",
   "execution_count": null,
   "metadata": {},
   "outputs": [],
   "source": [
    "#csv 도 입출력 같음 "
   ]
  }
 ],
 "metadata": {
  "kernelspec": {
   "display_name": "Python 3",
   "language": "python",
   "name": "python3"
  },
  "language_info": {
   "codemirror_mode": {
    "name": "ipython",
    "version": 3
   },
   "file_extension": ".py",
   "mimetype": "text/x-python",
   "name": "python",
   "nbconvert_exporter": "python",
   "pygments_lexer": "ipython3",
   "version": "3.6.10"
  }
 },
 "nbformat": 4,
 "nbformat_minor": 4
}
